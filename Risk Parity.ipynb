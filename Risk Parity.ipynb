{
 "cells": [
  {
   "cell_type": "code",
   "execution_count": 4,
   "metadata": {},
   "outputs": [],
   "source": [
    "from alpha_vantage.timeseries import TimeSeries\n",
    "\n",
    "import pandas as pd\n",
    "import numpy as np\n",
    "\n",
    "import matplotlib.pyplot as plt\n",
    "import seaborn as se\n",
    "se.set()"
   ]
  },
  {
   "cell_type": "code",
   "execution_count": 140,
   "metadata": {},
   "outputs": [],
   "source": [
    "shorts = ['SQQQ','SPXU','SDOW','SRTY']\n",
    "DOW = ['MMM','AXP','AAPL','BA',\n",
    "       'CAT','CVX','CSCO','KO',\n",
    "       'DIS','DOW','XOM','GS',\n",
    "      'HD','IBM','INTC','JNJ',\n",
    "      'JPM','MCD','MRK','MSFT',\n",
    "      'PFE','PG','TRV','UTX',\n",
    "      'UNH','VZ','V','WMT','WBA']"
   ]
  },
  {
   "cell_type": "code",
   "execution_count": 141,
   "metadata": {},
   "outputs": [],
   "source": [
    "#prepare the data\n",
    "def p_return(df):\n",
    "    df_op = df[\"1. open\"].values\n",
    "    df_cl = df[\"4. close\"].values\n",
    "    p = ((df_op*(df_op-df_cl))/df_op)\n",
    "    return p\n",
    "\n",
    "v = []\n",
    "\n",
    "startDate = '2020-02-01'\n",
    "endDate = '2020-03-15'\n",
    "\n",
    "strStocks = \"shorts\"\n",
    "Stocks = shorts\n",
    "buy=np.empty((len(Stocks),1))\n",
    "sell=np.empty((len(Stocks),1))\n",
    "\n",
    "i = 0 \n",
    "for s in Stocks:\n",
    "    fn = strStocks + \"/\" + s + \".csv\"\n",
    "    temp = pd.read_csv(fn,usecols=[\"date\",\"1. open\",\"4. close\"]\n",
    "                       ,engine='c',index_col=0)\n",
    "    temp.index = pd.to_datetime(temp.index)\n",
    "    temp=temp[(temp.index >= startDate) & (temp.index <= endDate )]\n",
    "    v.append(p_return(\n",
    "        temp)\n",
    "            )\n",
    "    buy[i]=temp[\"1. open\"][0]\n",
    "    sell[i]=temp[\"4. close\"][-1]\n",
    "    i+=1"
   ]
  },
  {
   "cell_type": "code",
   "execution_count": 142,
   "metadata": {},
   "outputs": [],
   "source": [
    "#covariance matrix\n",
    "sigma = np.cov(v)\n",
    "sigma =  np.reshape(sigma,(len(Stocks),len(Stocks)))"
   ]
  },
  {
   "cell_type": "code",
   "execution_count": 143,
   "metadata": {
    "scrolled": false
   },
   "outputs": [
    {
     "data": {
      "text/plain": [
       "<matplotlib.axes._subplots.AxesSubplot at 0x1a233225f8>"
      ]
     },
     "execution_count": 143,
     "metadata": {},
     "output_type": "execute_result"
    },
    {
     "data": {
      "image/png": "[encoded data removed]",
      "text/plain": [
       "<Figure size 432x360 with 2 Axes>"
      ]
     },
     "metadata": {},
     "output_type": "display_data"
    }
   ],
   "source": [
    "#covariance heat map\n",
    "plt.figure(figsize=(6,5))\n",
    "se.heatmap(sigma,xticklabels=Stocks,yticklabels=Stocks,)"
   ]
  },
  {
   "cell_type": "markdown",
   "metadata": {},
   "source": [
    "#### Risk Parity - fixed point"
   ]
  },
  {
   "cell_type": "code",
   "execution_count": 161,
   "metadata": {},
   "outputs": [
    {
     "name": "stdout",
     "output_type": "stream",
     "text": [
      "Iterations: 4 \n",
      "Risk Per Weight: 0.31885\n"
     ]
    }
   ],
   "source": [
    "#Fix point\n",
    "#init weights to invers var\n",
    "v = np.diag(sigma)\n",
    "w = (1/v)/sum(1/v)\n",
    "w = np.reshape(w, (len(w),1))\n",
    "\n",
    "n=100000000\n",
    "F_last = 1000\n",
    "\n",
    "error = np.empty(n)\n",
    "for i in range(1,n):\n",
    "    \n",
    "    w = (1/np.dot(sigma,w))/sum(1/np.dot(sigma,w))\n",
    "    \n",
    "    F = np.dot(np.dot(np.transpose(w),sigma),w)\n",
    "    error[i]=(abs(F - F_last))\n",
    "    \n",
    "    \n",
    "    c = (w * (np.dot(sigma,w)))\n",
    "    c1 = c[0,0] * np.ones((len(c),1))\n",
    "    l2 = np.linalg.norm(c1 - c)\n",
    "\n",
    "    if(l2 < 0.00001):\n",
    "        break\n",
    "print(\"Iterations: %d \\nRisk Per Weight: %.5f\" %(i,c[0,0]))"
   ]
  },
  {
   "cell_type": "code",
   "execution_count": 162,
   "metadata": {
    "scrolled": false
   },
   "outputs": [
    {
     "name": "stdout",
     "output_type": "stream",
     "text": [
      "Min Var\n",
      "Var: 1.2754 \tReturn: 0.5324\n",
      "==============================\n",
      "Investment     Weight\n",
      "==============================\n",
      "SQQQ:          0.2590\n",
      "SPXU:          0.2674\n",
      "SDOW:          0.1286\n",
      "SRTY:          0.3450\n",
      "==============================\n"
     ]
    }
   ],
   "source": [
    "R=sell/buy\n",
    "R_total=np.dot(np.transpose(R),w)-1\n",
    "var=np.dot(np.dot(np.transpose(w),sigma),w)[0,0] \n",
    "print(\"Min Var\")\n",
    "print(\"Var: %.4f \\tReturn: %.4f\"%(var, R_total))\n",
    "print(30*\"=\")\n",
    "print(\"%s %10s\"%(\"Investment\", \"Weight\"))\n",
    "print(30*\"=\")\n",
    "\n",
    "for i in range(len(Stocks)):\n",
    "    print(\"%s: %15.4f\" %(Stocks[i],w[i]))\n",
    "print(30*\"=\")"
   ]
  },
  {
   "cell_type": "markdown",
   "metadata": {},
   "source": [
    "#### Comparing Risk Parity with MinVar"
   ]
  },
  {
   "cell_type": "code",
   "execution_count": 164,
   "metadata": {},
   "outputs": [
    {
     "name": "stdout",
     "output_type": "stream",
     "text": [
      "Min Var\n",
      "Var: 0.0598 \tReturn: 0.57732473\n",
      "==============================\n",
      "Investment     Weight\n",
      "==============================\n",
      "SQQQ:         -0.6106\n",
      "SPXU:          2.5074\n",
      "SDOW:         -0.8684\n",
      "SRTY:         -0.0285\n",
      "==============================\n"
     ]
    }
   ],
   "source": [
    "iota = np.ones(shape=(len(Stocks),1))\n",
    "invSigma = np.linalg.inv(sigma)\n",
    "#Calc Min-Var\n",
    "num = np.dot(invSigma,iota)\n",
    "de = np.dot(np.transpose(iota),num)\n",
    "minVar = num/de\n",
    "\n",
    "R_total=np.dot(np.transpose(R),minVar)-1\n",
    "var = np.dot(np.dot(np.transpose(minVar),sigma),minVar)[0,0]\n",
    "\n",
    "print(\"Min Var\")\n",
    "print(\"Var: %.4f \\tReturn: %.8f\"%(var, R_total))\n",
    "print(30*\"=\")\n",
    "print(\"%s %10s\"%(\"Investment\", \"Weight\"))\n",
    "print(30*\"=\")\n",
    "for i in range(len(Stocks)):\n",
    "    print(\"%s: %15.4f\" %(Stocks[i],minVar[i]))\n",
    "print(30*\"=\")"
   ]
  }
 ],
 "metadata": {
  "kernelspec": {
   "display_name": "Python 3",
   "language": "python",
   "name": "python3"
  },
  "language_info": {
   "codemirror_mode": {
    "name": "ipython",
    "version": 3
   },
   "file_extension": ".py",
   "mimetype": "text/x-python",
   "name": "python",
   "nbconvert_exporter": "python",
   "pygments_lexer": "ipython3",
   "version": "3.6.5"
  }
 },
 "nbformat": 4,
 "nbformat_minor": 2
}
